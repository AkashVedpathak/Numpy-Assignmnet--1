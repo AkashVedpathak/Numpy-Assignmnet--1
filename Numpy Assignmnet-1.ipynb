{
 "cells": [
  {
   "cell_type": "markdown",
   "id": "de08ee20",
   "metadata": {},
   "source": [
    "### 1. Create a null vector of size 10 but the fifth value which is 1."
   ]
  },
  {
   "cell_type": "code",
   "execution_count": 1,
   "id": "a78486fe",
   "metadata": {},
   "outputs": [],
   "source": [
    "import numpy as np\n",
    "null_V=np.zeros(10,dtype=int)"
   ]
  },
  {
   "cell_type": "code",
   "execution_count": 2,
   "id": "75588625",
   "metadata": {},
   "outputs": [],
   "source": [
    "null_V[4]=1"
   ]
  },
  {
   "cell_type": "code",
   "execution_count": 3,
   "id": "b3c48453",
   "metadata": {},
   "outputs": [
    {
     "name": "stdout",
     "output_type": "stream",
     "text": [
      "[0 0 0 0 1 0 0 0 0 0]\n"
     ]
    }
   ],
   "source": [
    "print(null_V)"
   ]
  },
  {
   "cell_type": "markdown",
   "id": "66570866",
   "metadata": {},
   "source": [
    "### 2. Create a vector with values ranging from 10 to 49."
   ]
  },
  {
   "cell_type": "code",
   "execution_count": 4,
   "id": "858efebe",
   "metadata": {},
   "outputs": [],
   "source": [
    "array=np.arange(10,50)"
   ]
  },
  {
   "cell_type": "code",
   "execution_count": 5,
   "id": "de8da8f3",
   "metadata": {},
   "outputs": [
    {
     "name": "stdout",
     "output_type": "stream",
     "text": [
      "[10 11 12 13 14 15 16 17 18 19 20 21 22 23 24 25 26 27 28 29 30 31 32 33\n",
      " 34 35 36 37 38 39 40 41 42 43 44 45 46 47 48 49]\n"
     ]
    }
   ],
   "source": [
    "print(array)"
   ]
  },
  {
   "cell_type": "markdown",
   "id": "10127217",
   "metadata": {},
   "source": [
    "### 3.Create a 3x3 matrix with values ranging from 0 to 8"
   ]
  },
  {
   "cell_type": "code",
   "execution_count": 6,
   "id": "6d696261",
   "metadata": {},
   "outputs": [],
   "source": [
    "array1=np.arange(0,9).reshape(3,3)"
   ]
  },
  {
   "cell_type": "code",
   "execution_count": 7,
   "id": "cbf0d28c",
   "metadata": {},
   "outputs": [
    {
     "name": "stdout",
     "output_type": "stream",
     "text": [
      "[[0 1 2]\n",
      " [3 4 5]\n",
      " [6 7 8]]\n"
     ]
    }
   ],
   "source": [
    "print(array1)"
   ]
  },
  {
   "cell_type": "markdown",
   "id": "acc91da0",
   "metadata": {},
   "source": [
    "### 4. Find indices of non-zero elements from [1,2,0,0,4,0] "
   ]
  },
  {
   "cell_type": "code",
   "execution_count": 8,
   "id": "fc9af9ba",
   "metadata": {},
   "outputs": [],
   "source": [
    "array=np.array([1,2,0,0,4,0])\n",
    "new_array=np.nonzero(array==0)"
   ]
  },
  {
   "cell_type": "code",
   "execution_count": 9,
   "id": "898450b6",
   "metadata": {},
   "outputs": [
    {
     "name": "stdout",
     "output_type": "stream",
     "text": [
      "(array([2, 3, 5], dtype=int64),)\n"
     ]
    }
   ],
   "source": [
    "print(new_array)"
   ]
  },
  {
   "cell_type": "markdown",
   "id": "e133f285",
   "metadata": {},
   "source": [
    "### 5. Create a 10x10 array with random values and find the minimum and maximum values."
   ]
  },
  {
   "cell_type": "code",
   "execution_count": 10,
   "id": "84d6deb6",
   "metadata": {},
   "outputs": [],
   "source": [
    "ran_array=np.random.random((10,10))"
   ]
  },
  {
   "cell_type": "code",
   "execution_count": 11,
   "id": "bcf16cee",
   "metadata": {},
   "outputs": [
    {
     "name": "stdout",
     "output_type": "stream",
     "text": [
      "[[0.85012163 0.56611966 0.18011289 0.11453853 0.06054486 0.33446816\n",
      "  0.72148327 0.90443749 0.62186546 0.99737107]\n",
      " [0.83409383 0.16381839 0.64060531 0.26223063 0.39157314 0.2343782\n",
      "  0.99070498 0.1920988  0.8747055  0.22309089]\n",
      " [0.76121061 0.88458781 0.68054948 0.12869111 0.0718468  0.96814461\n",
      "  0.58756742 0.1117463  0.09575791 0.95953647]\n",
      " [0.93960302 0.78860846 0.34268644 0.76351927 0.33313151 0.48049775\n",
      "  0.79490318 0.99749727 0.11397305 0.71461672]\n",
      " [0.99896591 0.1889019  0.50041424 0.71194187 0.12614608 0.62365289\n",
      "  0.65369518 0.4319991  0.67338515 0.1505793 ]\n",
      " [0.531669   0.43750143 0.89940308 0.55090166 0.55634109 0.87471423\n",
      "  0.46744689 0.61772755 0.07999879 0.41519118]\n",
      " [0.432842   0.90455447 0.95244208 0.62683455 0.84284469 0.10293042\n",
      "  0.27676492 0.23929914 0.65918737 0.13506643]\n",
      " [0.12186857 0.58620357 0.75162015 0.17225044 0.04817425 0.36482539\n",
      "  0.98106505 0.97873787 0.53104372 0.23107163]\n",
      " [0.36435434 0.67248104 0.5012292  0.79106969 0.99828411 0.35438538\n",
      "  0.49961035 0.50340381 0.97229195 0.85088786]\n",
      " [0.99296698 0.8785441  0.69078062 0.27720679 0.97701496 0.52367922\n",
      "  0.0649728  0.67208606 0.08269148 0.46685642]]\n"
     ]
    }
   ],
   "source": [
    "print(ran_array)"
   ]
  },
  {
   "cell_type": "code",
   "execution_count": 12,
   "id": "6fab0cb4",
   "metadata": {},
   "outputs": [
    {
     "name": "stdout",
     "output_type": "stream",
     "text": [
      "Minimun Value : 0.04817424715419438\n"
     ]
    }
   ],
   "source": [
    "print(\"Minimun Value :\",ran_array.min())"
   ]
  },
  {
   "cell_type": "code",
   "execution_count": 13,
   "id": "967c43a5",
   "metadata": {},
   "outputs": [
    {
     "name": "stdout",
     "output_type": "stream",
     "text": [
      "Maximum Value : 0.9989659062722529\n"
     ]
    }
   ],
   "source": [
    "print(\"Maximum Value :\",ran_array.max())"
   ]
  },
  {
   "cell_type": "markdown",
   "id": "88d0fe48",
   "metadata": {},
   "source": [
    "### 6. Create a random vector of size 30 and find the mean value."
   ]
  },
  {
   "cell_type": "code",
   "execution_count": 19,
   "id": "a9e8a366",
   "metadata": {},
   "outputs": [],
   "source": [
    "ran_aaray=np.random.random(30)"
   ]
  },
  {
   "cell_type": "code",
   "execution_count": 18,
   "id": "73baea1d",
   "metadata": {},
   "outputs": [
    {
     "name": "stdout",
     "output_type": "stream",
     "text": [
      "[[0.85012163 0.56611966 0.18011289 0.11453853 0.06054486 0.33446816\n",
      "  0.72148327 0.90443749 0.62186546 0.99737107]\n",
      " [0.83409383 0.16381839 0.64060531 0.26223063 0.39157314 0.2343782\n",
      "  0.99070498 0.1920988  0.8747055  0.22309089]\n",
      " [0.76121061 0.88458781 0.68054948 0.12869111 0.0718468  0.96814461\n",
      "  0.58756742 0.1117463  0.09575791 0.95953647]\n",
      " [0.93960302 0.78860846 0.34268644 0.76351927 0.33313151 0.48049775\n",
      "  0.79490318 0.99749727 0.11397305 0.71461672]\n",
      " [0.99896591 0.1889019  0.50041424 0.71194187 0.12614608 0.62365289\n",
      "  0.65369518 0.4319991  0.67338515 0.1505793 ]\n",
      " [0.531669   0.43750143 0.89940308 0.55090166 0.55634109 0.87471423\n",
      "  0.46744689 0.61772755 0.07999879 0.41519118]\n",
      " [0.432842   0.90455447 0.95244208 0.62683455 0.84284469 0.10293042\n",
      "  0.27676492 0.23929914 0.65918737 0.13506643]\n",
      " [0.12186857 0.58620357 0.75162015 0.17225044 0.04817425 0.36482539\n",
      "  0.98106505 0.97873787 0.53104372 0.23107163]\n",
      " [0.36435434 0.67248104 0.5012292  0.79106969 0.99828411 0.35438538\n",
      "  0.49961035 0.50340381 0.97229195 0.85088786]\n",
      " [0.99296698 0.8785441  0.69078062 0.27720679 0.97701496 0.52367922\n",
      "  0.0649728  0.67208606 0.08269148 0.46685642]]\n"
     ]
    }
   ],
   "source": [
    "print(ran_array)"
   ]
  },
  {
   "cell_type": "code",
   "execution_count": 21,
   "id": "0362280a",
   "metadata": {},
   "outputs": [
    {
     "name": "stdout",
     "output_type": "stream",
     "text": [
      "Mean : 0.5424203826195341\n"
     ]
    }
   ],
   "source": [
    "print(\"Mean :\",ran_array.mean())"
   ]
  },
  {
   "cell_type": "code",
   "execution_count": null,
   "id": "70b0ff09",
   "metadata": {},
   "outputs": [],
   "source": []
  }
 ],
 "metadata": {
  "kernelspec": {
   "display_name": "Python 3 (ipykernel)",
   "language": "python",
   "name": "python3"
  },
  "language_info": {
   "codemirror_mode": {
    "name": "ipython",
    "version": 3
   },
   "file_extension": ".py",
   "mimetype": "text/x-python",
   "name": "python",
   "nbconvert_exporter": "python",
   "pygments_lexer": "ipython3",
   "version": "3.9.12"
  }
 },
 "nbformat": 4,
 "nbformat_minor": 5
}
